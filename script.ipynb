{
 "cells": [
  {
   "cell_type": "markdown",
   "metadata": {},
   "source": [
    "# Facial Expressions Recognition"
   ]
  },
  {
   "cell_type": "markdown",
   "metadata": {},
   "source": [
    "## Introduction"
   ]
  },
  {
   "cell_type": "markdown",
   "metadata": {},
   "source": [
    "By [Rifky Aliffa](https://github.com/Penzragon)\n",
    "\n",
    "![Image](https://www.duarte.com/wp-content/uploads/Facial-Expression_1.png)"
   ]
  },
  {
   "cell_type": "markdown",
   "metadata": {},
   "source": [
    "### Dataset"
   ]
  },
  {
   "cell_type": "markdown",
   "metadata": {},
   "source": [
    "The dataset used in this project is the fer2013 dataset. The data consists of 48x48 pixel grayscale images of faces. The faces have been automatically registered so that the face is more or less centred and occupies about the same amount of space in each image. You can download the dataset from [Kaggle](https://www.kaggle.com/datasets/msambare/fer2013)."
   ]
  },
  {
   "cell_type": "markdown",
   "metadata": {},
   "source": [
    "### Objective"
   ]
  },
  {
   "cell_type": "markdown",
   "metadata": {},
   "source": [
    "The objective of this project is to build a convolutional neural network model that can recognize human facial expressions."
   ]
  },
  {
   "cell_type": "markdown",
   "metadata": {},
   "source": [
    "## Import Libraries"
   ]
  },
  {
   "cell_type": "markdown",
   "metadata": {},
   "source": [
    "Pada project ini library utama yang digunakan adalah **Pandas**, **NumPy**, **Matplotlib**, **Seaborn**, **Scikit-Learn**, **Tensorflow**, dan **Keras**."
   ]
  },
  {
   "cell_type": "code",
   "execution_count": 1,
   "metadata": {},
   "outputs": [],
   "source": [
    "import pandas as pd\n",
    "import numpy as np\n",
    "import matplotlib.pyplot as plt\n",
    "import seaborn as sns\n",
    "import os\n",
    "import tensorflow as tf\n",
    "from tensorflow import keras\n",
    "from tensorflow.keras.models import Sequential\n",
    "from tensorflow.keras.layers import Dense, Dropout, Flatten, Conv2D, MaxPooling2D\n",
    "from tensorflow.keras.preprocessing import image\n",
    "from tensorflow.keras.preprocessing.image import ImageDataGenerator\n",
    "from tensorflow.keras.callbacks import EarlyStopping"
   ]
  },
  {
   "cell_type": "markdown",
   "metadata": {},
   "source": [
    "## Data Loading"
   ]
  },
  {
   "cell_type": "markdown",
   "metadata": {},
   "source": [
    "Pada bagian ini data gambar akan di load menggunakan `ImageDataGenerator`."
   ]
  },
  {
   "cell_type": "code",
   "execution_count": 2,
   "metadata": {},
   "outputs": [],
   "source": [
    "train_path = 'dataset/train'\n",
    "test_path = 'dataset/test'"
   ]
  },
  {
   "cell_type": "code",
   "execution_count": 3,
   "metadata": {},
   "outputs": [],
   "source": [
    "train_gen = ImageDataGenerator(rescale=1./255, rotation_range=40, horizontal_flip=True, vertical_flip=True, validation_split=0.3)\n",
    "test_gen = ImageDataGenerator(rescale=1./255)"
   ]
  },
  {
   "cell_type": "code",
   "execution_count": 4,
   "metadata": {},
   "outputs": [
    {
     "name": "stdout",
     "output_type": "stream",
     "text": [
      "Found 20099 images belonging to 7 classes.\n",
      "Found 8610 images belonging to 7 classes.\n",
      "Found 7178 images belonging to 7 classes.\n"
     ]
    }
   ],
   "source": [
    "train_data = train_gen.flow_from_directory(train_path, target_size=(48, 48), batch_size=23, class_mode='categorical', color_mode='grayscale', subset='training')\n",
    "valid_data = train_gen.flow_from_directory(train_path, target_size=(48, 48), batch_size=23, class_mode='categorical', color_mode='grayscale', subset='validation')\n",
    "test_data = test_gen.flow_from_directory(test_path, target_size=(48, 48), batch_size=23, class_mode='categorical', color_mode='grayscale', shuffle=False)"
   ]
  },
  {
   "cell_type": "code",
   "execution_count": 5,
   "metadata": {},
   "outputs": [
    {
     "name": "stdout",
     "output_type": "stream",
     "text": [
      "Classes: ['angry', 'disgust', 'fear', 'happy', 'neutral', 'sad', 'surprise']\n"
     ]
    }
   ],
   "source": [
    "classes = list(train_data.class_indices.keys())\n",
    "print(f'Classes: {classes}')"
   ]
  },
  {
   "cell_type": "markdown",
   "metadata": {},
   "source": [
    "Pada dataset ini terdapat **7 kelas** yang berbeda, yaitu:\n",
    "- Angry\n",
    "- Disgust\n",
    "- Fear\n",
    "- Happy\n",
    "- Neutral\n",
    "- Sad\n",
    "- Surprise"
   ]
  },
  {
   "cell_type": "markdown",
   "metadata": {},
   "source": [
    "## Exploratory Data Analysis"
   ]
  },
  {
   "cell_type": "code",
   "execution_count": 6,
   "metadata": {},
   "outputs": [
    {
     "name": "stdout",
     "output_type": "stream",
     "text": [
      "Found 7 folders with 0 images in dataset/train\n",
      "Found 0 folders with 3995 images in dataset/train\\angry\n",
      "Found 0 folders with 436 images in dataset/train\\disgust\n",
      "Found 0 folders with 4097 images in dataset/train\\fear\n",
      "Found 0 folders with 7215 images in dataset/train\\happy\n",
      "Found 0 folders with 4965 images in dataset/train\\neutral\n",
      "Found 0 folders with 4830 images in dataset/train\\sad\n",
      "Found 0 folders with 3171 images in dataset/train\\surprise\n"
     ]
    }
   ],
   "source": [
    "for dirpath, dirnames, filenames in os.walk(train_path):\n",
    "  print(f'Found {len(dirnames)} folders with {len(filenames)} images in {dirpath}')"
   ]
  },
  {
   "cell_type": "code",
   "execution_count": 7,
   "metadata": {},
   "outputs": [
    {
     "name": "stdout",
     "output_type": "stream",
     "text": [
      "Found 7 folders with 0 images in dataset/test\n",
      "Found 0 folders with 958 images in dataset/test\\angry\n",
      "Found 0 folders with 111 images in dataset/test\\disgust\n",
      "Found 0 folders with 1024 images in dataset/test\\fear\n",
      "Found 0 folders with 1774 images in dataset/test\\happy\n",
      "Found 0 folders with 1233 images in dataset/test\\neutral\n",
      "Found 0 folders with 1247 images in dataset/test\\sad\n",
      "Found 0 folders with 831 images in dataset/test\\surprise\n"
     ]
    }
   ],
   "source": [
    "for dirpath, dirnames, filenames in os.walk(test_path):\n",
    "  print(f'Found {len(dirnames)} folders with {len(filenames)} images in {dirpath}')"
   ]
  },
  {
   "cell_type": "markdown",
   "metadata": {},
   "source": [
    "Jika dilihat dari jumlah datanya, kelas **disgust** memiliki jumlah data paling sedikit diantara kelas-kelas lainnya. Dimana pada training set hanya sebanyak **436 gambar** sedangakan pada testing set hanya sebanyak **111 gambar** saja."
   ]
  }
 ],
 "metadata": {
  "interpreter": {
   "hash": "112f40161e87cdf99d798de2b86adf76c0b833717b9d65fa1f256b9c887e27bf"
  },
  "kernelspec": {
   "display_name": "Python 3.9.1 64-bit",
   "language": "python",
   "name": "python3"
  },
  "language_info": {
   "codemirror_mode": {
    "name": "ipython",
    "version": 3
   },
   "file_extension": ".py",
   "mimetype": "text/x-python",
   "name": "python",
   "nbconvert_exporter": "python",
   "pygments_lexer": "ipython3",
   "version": "3.9.1"
  },
  "orig_nbformat": 4
 },
 "nbformat": 4,
 "nbformat_minor": 2
}
